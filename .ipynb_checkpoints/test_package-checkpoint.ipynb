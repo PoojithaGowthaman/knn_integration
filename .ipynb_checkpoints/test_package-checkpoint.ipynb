{
 "cells": [
  {
   "cell_type": "code",
   "execution_count": 20,
   "metadata": {},
   "outputs": [],
   "source": [
    "import subpackage_1.KNN_data_collection as knn\n",
    "import subpackage_1.generate_predictions as gp\n",
    "import numpy as np"
   ]
  },
  {
   "cell_type": "code",
   "execution_count": 21,
   "metadata": {},
   "outputs": [
    {
     "name": "stdout",
     "output_type": "stream",
     "text": [
      "Created KNN classifier with k=2!\n",
      "Dataset successfully loaded!\n",
      "Successfully completed train/test split!\n",
      "Training set: 90 samples\n",
      "Test set: 60 samples\n"
     ]
    }
   ],
   "source": [
    "classification_model=knn.KNN('classifier',2)\n",
    "classification_model.load_csv('Iris.csv','Species')\n",
    "classification_model.train_test_split(0.4)"
   ]
  },
  {
   "cell_type": "code",
   "execution_count": 22,
   "metadata": {},
   "outputs": [
    {
     "name": "stdout",
     "output_type": "stream",
     "text": [
      "Created KNN regressor with k=3!\n",
      "Dataset successfully loaded!\n",
      "Successfully completed train/test split!\n",
      "Training set: 263 samples\n",
      "Test set: 129 samples\n"
     ]
    }
   ],
   "source": [
    "regression_model=knn.KNN('regressor')\n",
    "regression_model.load_csv('AutoMPG.csv','mpg')\n",
    "regression_model.train_test_split(0.33)"
   ]
  },
  {
   "cell_type": "code",
   "execution_count": 23,
   "metadata": {},
   "outputs": [
    {
     "data": {
      "text/plain": [
       "17.400000000000002"
      ]
     },
     "execution_count": 23,
     "metadata": {},
     "output_type": "execute_result"
    }
   ],
   "source": [
    "res_train = gp.generate_prediction(regression_model,[8,318,150,3436,11],'train')\n",
    "res_train"
   ]
  },
  {
   "cell_type": "code",
   "execution_count": 24,
   "metadata": {},
   "outputs": [
    {
     "data": {
      "text/plain": [
       "17.0"
      ]
     },
     "execution_count": 24,
     "metadata": {},
     "output_type": "execute_result"
    }
   ],
   "source": [
    "res_test = gp.generate_prediction(regression_model,[8,318,150,3436,11],'test')\n",
    "res_test"
   ]
  },
  {
   "cell_type": "code",
   "execution_count": 25,
   "metadata": {},
   "outputs": [
    {
     "data": {
      "text/plain": [
       "'Iris-setosa'"
      ]
     },
     "execution_count": 25,
     "metadata": {},
     "output_type": "execute_result"
    }
   ],
   "source": [
    "gp.generate_prediction(classification_model,[6,3,-3245,102],'all')"
   ]
  },
  {
   "cell_type": "code",
   "execution_count": 26,
   "metadata": {},
   "outputs": [
    {
     "data": {
      "text/plain": [
       "'Iris-setosa'"
      ]
     },
     "execution_count": 26,
     "metadata": {},
     "output_type": "execute_result"
    }
   ],
   "source": [
    "gp.generate_prediction(classification_model, [6,3,-3534,102], 'test')"
   ]
  },
  {
   "cell_type": "code",
   "execution_count": 27,
   "metadata": {},
   "outputs": [],
   "source": [
    "def model_accuracy(knn_type, actual, predicted):\n",
    "    if knn_type == 'regressor':\n",
    "        result = predicted/actual * 100\n",
    "    elif knn_type == 'classifier':\n",
    "        if (actual == predicted):\n",
    "            result = 1\n",
    "        else:\n",
    "            result = 0\n",
    "    return result\n",
    "    "
   ]
  },
  {
   "cell_type": "code",
   "execution_count": 28,
   "metadata": {},
   "outputs": [],
   "source": [
    "def model_rmse(knn_type, actual, predicted):\n",
    "    total_size = np.size(actual)\n",
    "    rmse = 0\n",
    "    if knn_type == 'regressor':\n",
    "        rmse = np.sqrt(np.mean(predicted - actual)**2)\n",
    "    elif knn_type == 'classifer':\n",
    "        rmse = (total_size - np.sum((actual - predicted) != 0))/total_size\n",
    "    return rmse\n",
    "    "
   ]
  },
  {
   "cell_type": "code",
   "execution_count": 29,
   "metadata": {},
   "outputs": [],
   "source": [
    "def model_mape(knn_type, actual, predicted):\n",
    "    total_size = np.size(actual)\n",
    "    mape = 0\n",
    "    if knn_type == 'regressor':\n",
    "        mape = (np.sum(np.abs(actual - predicted)/actual)/total_size)* 100\n",
    "    elif knn_type == 'classifer':\n",
    "        mape = ((total_size - np.sum((actual - predicted) != 0))/total_size)* 100\n",
    "    return mape"
   ]
  },
  {
   "cell_type": "code",
   "execution_count": null,
   "metadata": {},
   "outputs": [],
   "source": []
  },
  {
   "cell_type": "code",
   "execution_count": null,
   "metadata": {},
   "outputs": [],
   "source": []
  },
  {
   "cell_type": "code",
   "execution_count": 30,
   "metadata": {},
   "outputs": [],
   "source": [
    "import subpackage_1.KNN_data_collection as knn\n",
    "import subpackage_1.generate_predictions as gp\n",
    "import numpy as np\n",
    "def assesment_metrics(knn_model, train_obs, test_obs):\n",
    "    classification_model=knn.KNN('classifier',2)\n",
    "    classification_model.load_csv('Iris.csv','Species')\n",
    "    classification_model.train_test_split(0.4)\n",
    "    \n",
    "    regression_model=knn.KNN('regressor')\n",
    "    regression_model.load_csv('AutoMPG.csv','mpg')\n",
    "    regression_model.train_test_split(0.33)\n",
    "    \n",
    "    if knn_model == 'regressor':\n",
    "        train_result = gp.generate_prediction(regression_model, train_obs, 'train').astype(float)\n",
    "        test_result = gp.generate_prediction(regression_model, test_obs, 'test').astype(float)\n",
    "    elif knn_model == 'classifier':\n",
    "        train_result = gp.generate_prediction(classification_model, train_obs, 'train')\n",
    "        test_result = gp.generate_prediction(classification_model, test_obs, 'test')\n",
    "   \n",
    "    t_accuracy = model_accuracy(knn_model, test_result,train_result)\n",
    "    test_rmse = model_rmse(knn_model,test_result, train_result)\n",
    "    test_mape = model_mape(knn_model,test_result,train_result  )\n",
    "    #print(t_accuracy, test_rmse)\n",
    "    return t_accuracy, test_rmse, test_mape\n",
    "    "
   ]
  },
  {
   "cell_type": "code",
   "execution_count": 31,
   "metadata": {},
   "outputs": [
    {
     "name": "stdout",
     "output_type": "stream",
     "text": [
      "Created KNN classifier with k=2!\n",
      "Dataset successfully loaded!\n",
      "Successfully completed train/test split!\n",
      "Training set: 90 samples\n",
      "Test set: 60 samples\n",
      "Created KNN regressor with k=3!\n",
      "Dataset successfully loaded!\n",
      "Successfully completed train/test split!\n",
      "Training set: 263 samples\n",
      "Test set: 129 samples\n"
     ]
    },
    {
     "data": {
      "text/plain": [
       "(1, 0, 0)"
      ]
     },
     "execution_count": 31,
     "metadata": {},
     "output_type": "execute_result"
    }
   ],
   "source": [
    "assesment_metrics('classifier',[8,318,150,3436,11],[8,318,150,3436,11])"
   ]
  },
  {
   "cell_type": "code",
   "execution_count": 32,
   "metadata": {},
   "outputs": [
    {
     "name": "stdout",
     "output_type": "stream",
     "text": [
      "Created KNN classifier with k=2!\n",
      "Dataset successfully loaded!\n",
      "Successfully completed train/test split!\n",
      "Training set: 90 samples\n",
      "Test set: 60 samples\n",
      "Created KNN regressor with k=3!\n",
      "Dataset successfully loaded!\n",
      "Successfully completed train/test split!\n",
      "Training set: 263 samples\n",
      "Test set: 129 samples\n"
     ]
    },
    {
     "data": {
      "text/plain": [
       "(93.23583180987202, 1.2333333333333343, 6.764168190127975)"
      ]
     },
     "execution_count": 32,
     "metadata": {},
     "output_type": "execute_result"
    }
   ],
   "source": [
    "assesment_metrics('regressor', [8,318,150,3436,11], [8,318,150,3436,11])"
   ]
  },
  {
   "cell_type": "code",
   "execution_count": 33,
   "metadata": {},
   "outputs": [
    {
     "name": "stdout",
     "output_type": "stream",
     "text": [
      "Created KNN classifier with k=2!\n",
      "Dataset successfully loaded!\n",
      "Successfully completed train/test split!\n",
      "Training set: 90 samples\n",
      "Test set: 60 samples\n",
      "Created KNN regressor with k=3!\n",
      "Dataset successfully loaded!\n",
      "Successfully completed train/test split!\n",
      "Training set: 263 samples\n",
      "Test set: 129 samples\n",
      "Accuracy of the model : 86.9983948635634\n",
      "RSME : 2.6999999999999993\n",
      "MAPE:  13.001605136436595\n"
     ]
    }
   ],
   "source": [
    "import subpackage_2.model_metrices as mm\n",
    "mm.assesment_metrics('regressor', [8,318,150,3436,11], [8,318,150,3436,11])"
   ]
  },
  {
   "cell_type": "code",
   "execution_count": null,
   "metadata": {},
   "outputs": [],
   "source": []
  },
  {
   "cell_type": "code",
   "execution_count": null,
   "metadata": {},
   "outputs": [],
   "source": []
  },
  {
   "cell_type": "code",
   "execution_count": 35,
   "metadata": {},
   "outputs": [
    {
     "ename": "NameError",
     "evalue": "name 'result' is not defined",
     "output_type": "error",
     "traceback": [
      "\u001b[0;31m---------------------------------------------------------------------------\u001b[0m",
      "\u001b[0;31mNameError\u001b[0m                                 Traceback (most recent call last)",
      "\u001b[0;32m<ipython-input-35-354158d572c3>\u001b[0m in \u001b[0;36m<module>\u001b[0;34m\u001b[0m\n\u001b[0;32m----> 1\u001b[0;31m \u001b[0mnp\u001b[0m\u001b[0;34m.\u001b[0m\u001b[0munique\u001b[0m\u001b[0;34m(\u001b[0m\u001b[0mresult\u001b[0m\u001b[0;34m,\u001b[0m \u001b[0mreturn_counts\u001b[0m\u001b[0;34m=\u001b[0m\u001b[0;32mTrue\u001b[0m\u001b[0;34m)\u001b[0m\u001b[0;34m\u001b[0m\u001b[0;34m\u001b[0m\u001b[0m\n\u001b[0m",
      "\u001b[0;31mNameError\u001b[0m: name 'result' is not defined"
     ]
    }
   ],
   "source": [
    "np.unique(result, return_counts=True)"
   ]
  },
  {
   "cell_type": "code",
   "execution_count": 17,
   "metadata": {},
   "outputs": [
    {
     "data": {
      "text/plain": [
       "array([1, 2])"
      ]
     },
     "execution_count": 17,
     "metadata": {},
     "output_type": "execute_result"
    }
   ],
   "source": [
    "np.unique([1,1,1,1,2])"
   ]
  },
  {
   "cell_type": "code",
   "execution_count": null,
   "metadata": {},
   "outputs": [],
   "source": [
    "classes,counts=np.unique(['test','Iris-setosa', 'Iris-setosa', 'Iris-setosa','test','hi'],return_counts=True)"
   ]
  },
  {
   "cell_type": "code",
   "execution_count": null,
   "metadata": {},
   "outputs": [],
   "source": [
    "counts"
   ]
  },
  {
   "cell_type": "code",
   "execution_count": null,
   "metadata": {},
   "outputs": [],
   "source": [
    "np.sort(counts)[-2:]"
   ]
  },
  {
   "cell_type": "code",
   "execution_count": null,
   "metadata": {},
   "outputs": [],
   "source": [
    "classes"
   ]
  },
  {
   "cell_type": "code",
   "execution_count": null,
   "metadata": {},
   "outputs": [],
   "source": [
    "counts"
   ]
  },
  {
   "cell_type": "code",
   "execution_count": null,
   "metadata": {},
   "outputs": [],
   "source": [
    "if counts>1:\n",
    "    top_counts=np.sort(counts)[-2:]\n",
    "    if top_counts[0]==top_counts[1]:\n",
    "        warnings.warn('Warning: A tie has occurred (top two classes in K nearest neighbors have the same number of occurances). Classification depends on the order of the training data.')"
   ]
  },
  {
   "cell_type": "code",
   "execution_count": null,
   "metadata": {},
   "outputs": [],
   "source": []
  },
  {
   "cell_type": "code",
   "execution_count": null,
   "metadata": {},
   "outputs": [],
   "source": []
  }
 ],
 "metadata": {
  "kernelspec": {
   "display_name": "Python 3",
   "language": "python",
   "name": "python3"
  },
  "language_info": {
   "codemirror_mode": {
    "name": "ipython",
    "version": 3
   },
   "file_extension": ".py",
   "mimetype": "text/x-python",
   "name": "python",
   "nbconvert_exporter": "python",
   "pygments_lexer": "ipython3",
   "version": "3.8.3"
  }
 },
 "nbformat": 4,
 "nbformat_minor": 4
}
