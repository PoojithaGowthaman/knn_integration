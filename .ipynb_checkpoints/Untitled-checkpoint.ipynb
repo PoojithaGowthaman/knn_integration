{
 "cells": [
  {
   "cell_type": "code",
   "execution_count": 18,
   "metadata": {},
   "outputs": [],
   "source": [
    "import subpackage_1.KNN_data_collection as knn\n",
    "import subpackage_1.generate_predictions as gp\n",
    "import numpy as np"
   ]
  },
  {
   "cell_type": "code",
   "execution_count": 19,
   "metadata": {},
   "outputs": [
    {
     "name": "stdout",
     "output_type": "stream",
     "text": [
      "Created KNN classifier with k=2!\n",
      "Dataset successfully loaded!\n",
      "Successfully completed train/test split!\n",
      "Training set: 90 samples\n",
      "Test set: 60 samples\n"
     ]
    }
   ],
   "source": [
    "classification_model=knn.KNN('classifier',2)\n",
    "classification_model.load_csv('Iris.csv','Species')\n",
    "classification_model.train_test_split(0.4)"
   ]
  },
  {
   "cell_type": "code",
   "execution_count": 33,
   "metadata": {},
   "outputs": [
    {
     "data": {
      "text/plain": [
       "array(['Iris-versicolor', 'Iris-virginica'], dtype='<U15')"
      ]
     },
     "execution_count": 33,
     "metadata": {},
     "output_type": "execute_result"
    }
   ],
   "source": [
    "res_train = gp.generate_predictions(classification_model,[[1,2,3,4], [5,6,7,8]],'train')\n",
    "res_train"
   ]
  },
  {
   "cell_type": "code",
   "execution_count": null,
   "metadata": {},
   "outputs": [],
   "source": []
  },
  {
   "cell_type": "code",
   "execution_count": 34,
   "metadata": {},
   "outputs": [
    {
     "ename": "SyntaxError",
     "evalue": "invalid syntax (<ipython-input-34-9f970fa1d6b6>, line 4)",
     "output_type": "error",
     "traceback": [
      "\u001b[0;36m  File \u001b[0;32m\"<ipython-input-34-9f970fa1d6b6>\"\u001b[0;36m, line \u001b[0;32m4\u001b[0m\n\u001b[0;31m    result = 1\u001b[0m\n\u001b[0m    ^\u001b[0m\n\u001b[0;31mSyntaxError\u001b[0m\u001b[0;31m:\u001b[0m invalid syntax\n"
     ]
    }
   ],
   "source": [
    "\n",
    "def model_accuracy(actual, predicted): # for classifer\n",
    "    \"\"\"Model accuracy for Classification\"\"\"\n",
    "    if (np.mean(np.array(predicted) == np.array(actual))\n",
    "        result = 1\n",
    "    else:\n",
    "        result = 0\n",
    "    print(\"Prediction Output: (1: Success, 2:Incorrect prediction)\", result) \n",
    "\n",
    "def model_misclassification(actual, predicted): #for classifer\n",
    "        misclassification_rate = 0\n",
    "        total_size = np.size(np.array(actual))\n",
    "        missclassify = np.mean(np.array(predicted)! = np.array(actual))\n",
    "        misclassification_rate = (total_size - missclassify)/total_size\n",
    "        print('Misclassification Rate:',misclassification_rate)\n",
    "        \n",
    "            \n",
    "def model_rmse(actual, predicted): # for regressor\n",
    "    total_size = np.size(actual)\n",
    "    rmse = 0\n",
    "        rmse = np.sqrt(np.mean(predicted - actual)**2)\n",
    "    return rmse\n",
    "    \n",
    "def model_mape(actual, predicted): # for regressor\n",
    "    total_size = np.size(actual)\n",
    "    mape = 0\n",
    "    if knn_type == 'regressor':\n",
    "        mape = (np.sum(np.abs(actual - predicted)/actual)/total_size)* 100\n",
    "    return mape\n",
    " \n",
    "def assesment_metrics(knn_type, train_obs, test_obs):\n",
    "    if knn_type == 'regressor':\n",
    "        train_result = gp.generate_predictions(regression_model, [train_obs, test_obs], 'train').astype(float)\n",
    "        test_result = gp.generate_predictions(regression_model, [train_obs, test_obs], 'all').astype(float)\n",
    "        test_rmse = model_rmse(test_result, train_result)\n",
    "        test_mape = model_mape(test_result,train_result)\n",
    "        \n",
    "    elif knn_model == 'classifier':\n",
    "        train_result = gp.generate_predictions(classification_model, [train_obs, test_obs], 'train')\n",
    "        test_result = gp.generate_predictions(classification_model, [train_obs, test_obs], 'all')\n",
    "        \n",
    "        test_accuracy = model_accuracy(test_result,train_result)\n",
    "        test_missclassification = model_misclassification(test_result,train_result)\n",
    "   \n",
    "    print('Accuracy of the Classifier model :', test_accuracy )\n",
    "    print('Misclassification of Classifier model : ',test_missclassification)    \n",
    "    print('RSME of regressor :', test_rmse)\n",
    "    print('MAPE of regressor : ',test_mape)\n",
    "         \n",
    "    "
   ]
  },
  {
   "cell_type": "code",
   "execution_count": null,
   "metadata": {},
   "outputs": [],
   "source": []
  }
 ],
 "metadata": {
  "kernelspec": {
   "display_name": "Python 3",
   "language": "python",
   "name": "python3"
  },
  "language_info": {
   "codemirror_mode": {
    "name": "ipython",
    "version": 3
   },
   "file_extension": ".py",
   "mimetype": "text/x-python",
   "name": "python",
   "nbconvert_exporter": "python",
   "pygments_lexer": "ipython3",
   "version": "3.8.3"
  }
 },
 "nbformat": 4,
 "nbformat_minor": 4
}
