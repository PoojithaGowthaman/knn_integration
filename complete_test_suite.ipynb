{
 "cells": [
  {
   "cell_type": "code",
   "execution_count": 2,
   "metadata": {},
   "outputs": [
    {
     "name": "stderr",
     "output_type": "stream",
     "text": [
      "............"
     ]
    },
    {
     "name": "stdout",
     "output_type": "stream",
     "text": [
      "Created KNN regressor with k=2!\n",
      "Dataset successfully loaded!\n",
      "1 149 596\n",
      "Test Successful!\n",
      "Created KNN classifier with k=4!\n",
      "Dataset successfully loaded!\n",
      "1 150 600\n",
      "Test Successful!\n",
      "Created KNN regressor with k=2!\n",
      "Successfully completed train/test split!\n",
      "Training set: 3 samples\n",
      "Test set: 1 samples\n",
      "3 1 3 1\n",
      "3 1 3 1\n",
      "Result successful\n",
      "Created KNN classifier with k=3!\n",
      "Successfully completed train/test split!\n",
      "Training set: 3 samples\n",
      "Test set: 2 samples\n",
      "3 2 3 2\n",
      "3 2 3 2\n",
      "Result successfull\n",
      "Created KNN regressor with k=7!\n",
      "Dataset successfully loaded!\n",
      "Successfully completed train/test split!\n",
      "Training set: 294 samples\n",
      "Test set: 98 samples\n",
      "from setUpClass\n",
      "Test Success!!!\n",
      "Test Success!!!\n",
      "Test Success!!!\n",
      "Test Success!!!\n",
      "Regressor Assessment: \n",
      " RMSE 3.3324854363782985 MAE: 2.5892857142857135 MAPE: 11.266017658016674 MSE: 11.10545918367346\n",
      "Created KNN classifier with k=4!\n",
      "Dataset successfully loaded!\n",
      "Successfully completed train/test split!\n",
      "Training set: 120 samples\n",
      "Test set: 30 samples\n",
      "from setUpClass\n",
      "Test Success!!!\n",
      "Test Success!!!\n",
      "Test Success!!!\n",
      "Test Success!!!\n",
      "Classifier Assessment: \n",
      " Accuracy: 0.6666666666666666 Misclassification Rate: 0.3333333333333333 Numbers classified Correctly: 2 Numbers classified Incorrectly: 1\n",
      "<unittest.runner.TextTestResult run=12 errors=0 failures=0>\n"
     ]
    },
    {
     "name": "stderr",
     "output_type": "stream",
     "text": [
      "\n",
      "----------------------------------------------------------------------\n",
      "Ran 12 tests in 0.105s\n",
      "\n",
      "OK\n"
     ]
    }
   ],
   "source": [
    "import unittest\n",
    "from test_load_csv import Testload_csv\n",
    "from test_load_csv import TestVariables\n",
    "from test_train_split import TestDataCollection_regressor\n",
    "from test_train_split import TestDataCollection_classifier\n",
    "from test_regression_metrics import TestRegressionMetrics\n",
    "from test_classification_metrics import TestClassificationMetrics \n",
    "def my_suite():\n",
    "    suite = unittest.TestSuite()\n",
    "    result = unittest.TestResult()\n",
    "    suite.addTest(unittest.makeSuite(Testload_csv))\n",
    "    suite.addTest(unittest.makeSuite(TestVariables))\n",
    "    suite.addTest(unittest.makeSuite(TestDataCollection_regressor))\n",
    "    suite.addTest(unittest.makeSuite(TestDataCollection_classifier))\n",
    "    suite.addTest(unittest.makeSuite(TestRegressionMetrics))\n",
    "    suite.addTest(unittest.makeSuite(TestClassificationMetrics))\n",
    "    runner = unittest.TextTestRunner()\n",
    "    print(runner.run(suite))\n",
    "my_suite()"
   ]
  },
  {
   "cell_type": "code",
   "execution_count": null,
   "metadata": {},
   "outputs": [],
   "source": []
  }
 ],
 "metadata": {
  "kernelspec": {
   "display_name": "Python 3",
   "language": "python",
   "name": "python3"
  },
  "language_info": {
   "codemirror_mode": {
    "name": "ipython",
    "version": 3
   },
   "file_extension": ".py",
   "mimetype": "text/x-python",
   "name": "python",
   "nbconvert_exporter": "python",
   "pygments_lexer": "ipython3",
   "version": "3.8.3"
  }
 },
 "nbformat": 4,
 "nbformat_minor": 4
}
