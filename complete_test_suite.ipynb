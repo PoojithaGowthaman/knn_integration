{
 "cells": [
  {
   "cell_type": "code",
   "execution_count": 1,
   "metadata": {
    "scrolled": false
   },
   "outputs": [
    {
     "name": "stderr",
     "output_type": "stream",
     "text": [
      "\n",
      "----------------------------------------------------------------------\n",
      "Ran 0 tests in 0.000s\n",
      "\n",
      "OK\n",
      "test_varible_size (test_load_csv.TestVariables) ... ERROR\n",
      "test_load_csv (test_load_csv.Testload_csv) ... ERROR\n",
      "\n",
      "======================================================================\n",
      "ERROR: test_varible_size (test_load_csv.TestVariables)\n",
      "----------------------------------------------------------------------\n",
      "Traceback (most recent call last):\n",
      "  File \"/Users/ericphillips/ubc_mds/data_533/knn_unittest/test_load_csv.py\", line 55, in test_varible_size\n",
      "    self.x = (np.delete(self.data, self.y, axis = 1))\n",
      "  File \"<__array_function__ internals>\", line 5, in delete\n",
      "  File \"/Users/ericphillips/Library/Caches/pypoetry/virtualenvs/ubc-mds-wdiN2fIt-py3.8/lib/python3.8/site-packages/numpy/lib/function_base.py\", line 4406, in delete\n",
      "    keep[obj,] = False\n",
      "IndexError: index 9 is out of bounds for axis 0 with size 5\n",
      "\n",
      "======================================================================\n",
      "ERROR: test_load_csv (test_load_csv.Testload_csv)\n",
      "----------------------------------------------------------------------\n",
      "Traceback (most recent call last):\n",
      "  File \"/Users/ericphillips/ubc_mds/data_533/knn_unittest/test_load_csv.py\", line 24, in test_load_csv\n",
      "    self.x = np.delete(self.data,self.y,axis=1).astype(float)\n",
      "  File \"<__array_function__ internals>\", line 5, in delete\n",
      "  File \"/Users/ericphillips/Library/Caches/pypoetry/virtualenvs/ubc-mds-wdiN2fIt-py3.8/lib/python3.8/site-packages/numpy/lib/function_base.py\", line 4406, in delete\n",
      "    keep[obj,] = False\n",
      "IndexError: index 9 is out of bounds for axis 0 with size 5\n",
      "\n",
      "----------------------------------------------------------------------\n",
      "Ran 2 tests in 0.022s\n",
      "\n",
      "FAILED (errors=2)\n",
      "test_train_test_split_classifier (test_train_split.TestDataCollection_classifier) ... ok\n",
      "test_train_test_split_regressor (test_train_split.TestDataCollection_regressor) ... ok\n",
      "test_varible_size (test_load_csv.TestVariables) ... ERROR\n",
      "test_load_csv (test_load_csv.Testload_csv) ... ERROR\n",
      "\n",
      "======================================================================\n",
      "ERROR: test_varible_size (test_load_csv.TestVariables)\n",
      "----------------------------------------------------------------------\n",
      "Traceback (most recent call last):\n",
      "  File \"/Users/ericphillips/ubc_mds/data_533/knn_unittest/test_load_csv.py\", line 55, in test_varible_size\n",
      "    self.x = (np.delete(self.data, self.y, axis = 1))\n",
      "  File \"<__array_function__ internals>\", line 5, in delete\n",
      "  File \"/Users/ericphillips/Library/Caches/pypoetry/virtualenvs/ubc-mds-wdiN2fIt-py3.8/lib/python3.8/site-packages/numpy/lib/function_base.py\", line 4406, in delete\n",
      "    keep[obj,] = False\n",
      "IndexError: index 9 is out of bounds for axis 0 with size 5\n",
      "\n",
      "======================================================================\n",
      "ERROR: test_load_csv (test_load_csv.Testload_csv)\n",
      "----------------------------------------------------------------------\n",
      "Traceback (most recent call last):\n",
      "  File \"/Users/ericphillips/ubc_mds/data_533/knn_unittest/test_load_csv.py\", line 24, in test_load_csv\n",
      "    self.x = np.delete(self.data,self.y,axis=1).astype(float)\n",
      "  File \"<__array_function__ internals>\", line 5, in delete\n",
      "  File \"/Users/ericphillips/Library/Caches/pypoetry/virtualenvs/ubc-mds-wdiN2fIt-py3.8/lib/python3.8/site-packages/numpy/lib/function_base.py\", line 4406, in delete\n",
      "    keep[obj,] = False\n",
      "IndexError: index 9 is out of bounds for axis 0 with size 5\n",
      "\n",
      "----------------------------------------------------------------------\n",
      "Ran 4 tests in 0.116s\n",
      "\n",
      "FAILED (errors=2)\n"
     ]
    },
    {
     "name": "stdout",
     "output_type": "stream",
     "text": [
      "Created KNN classifier with k=4!\n",
      "1 150 1\n",
      "Test Successful!\n",
      "Created KNN regressor with k=2!\n",
      "1 149 1\n",
      "Test Successful!\n",
      "Created KNN classifier with k=3!\n",
      "Successfully completed train/test split!\n",
      "Training set: 3 samples\n",
      "Test set: 2 samples\n",
      "3 2 3 2\n",
      "3 2 3 2\n",
      "Result successfull\n",
      "Created KNN regressor with k=2!\n",
      "Successfully completed train/test split!\n",
      "Training set: 3 samples\n",
      "Test set: 1 samples\n",
      "3 1 3 1\n",
      "3 1 3 1\n",
      "Result successful\n",
      "Created KNN classifier with k=4!\n",
      "1 150 1\n",
      "Test Successful!\n",
      "Created KNN regressor with k=2!\n",
      "1 149 1\n",
      "Test Successful!\n"
     ]
    },
    {
     "name": "stderr",
     "output_type": "stream",
     "text": [
      "test_train_test_split_classifier (test_train_split.TestDataCollection_classifier) ... ok\n",
      "test_train_test_split_regressor (test_train_split.TestDataCollection_regressor) ... ok\n",
      "test_model_mae (test_regression_metrics.TestRegressionMetrics) ... ok\n",
      "test_model_mape (test_regression_metrics.TestRegressionMetrics) ... ok\n",
      "test_model_mse (test_regression_metrics.TestRegressionMetrics) ... ok\n",
      "test_model_rmse (test_regression_metrics.TestRegressionMetrics) ... ok\n",
      "test_varible_size (test_load_csv.TestVariables) ... "
     ]
    },
    {
     "name": "stdout",
     "output_type": "stream",
     "text": [
      "Created KNN classifier with k=3!\n",
      "Successfully completed train/test split!\n",
      "Training set: 3 samples\n",
      "Test set: 2 samples\n",
      "3 2 3 2\n",
      "3 2 3 2\n",
      "Result successfull\n",
      "Created KNN regressor with k=2!\n",
      "Successfully completed train/test split!\n",
      "Training set: 3 samples\n",
      "Test set: 1 samples\n",
      "3 1 3 1\n",
      "3 1 3 1\n",
      "Result successful\n",
      "Created KNN regressor with k=7!\n",
      "Dataset successfully loaded!\n",
      "Successfully completed train/test split!\n",
      "Training set: 294 samples\n",
      "Test set: 98 samples\n",
      "from setUpClass\n",
      "Test Success!!!\n",
      "Test Success!!!\n",
      "Test Success!!!\n",
      "Test Success!!!\n",
      "Regressor Assessment: \n",
      " RMSE 3.221729475968853 MAE: 2.139285714285715 MAPE: 9.811968456337535 MSE: 10.37954081632654\n",
      "Created KNN classifier with k=4!\n",
      "1 150 1\n"
     ]
    },
    {
     "name": "stderr",
     "output_type": "stream",
     "text": [
      "ERROR\n",
      "test_load_csv (test_load_csv.Testload_csv) ... ERROR\n",
      "\n",
      "======================================================================\n",
      "ERROR: test_varible_size (test_load_csv.TestVariables)\n",
      "----------------------------------------------------------------------\n",
      "Traceback (most recent call last):\n",
      "  File \"/Users/ericphillips/ubc_mds/data_533/knn_unittest/test_load_csv.py\", line 55, in test_varible_size\n",
      "    self.x = (np.delete(self.data, self.y, axis = 1))\n",
      "  File \"<__array_function__ internals>\", line 5, in delete\n",
      "  File \"/Users/ericphillips/Library/Caches/pypoetry/virtualenvs/ubc-mds-wdiN2fIt-py3.8/lib/python3.8/site-packages/numpy/lib/function_base.py\", line 4406, in delete\n",
      "    keep[obj,] = False\n",
      "IndexError: index 9 is out of bounds for axis 0 with size 5\n",
      "\n",
      "======================================================================\n",
      "ERROR: test_load_csv (test_load_csv.Testload_csv)\n",
      "----------------------------------------------------------------------\n",
      "Traceback (most recent call last):\n",
      "  File \"/Users/ericphillips/ubc_mds/data_533/knn_unittest/test_load_csv.py\", line 24, in test_load_csv\n",
      "    self.x = np.delete(self.data,self.y,axis=1).astype(float)\n",
      "  File \"<__array_function__ internals>\", line 5, in delete\n",
      "  File \"/Users/ericphillips/Library/Caches/pypoetry/virtualenvs/ubc-mds-wdiN2fIt-py3.8/lib/python3.8/site-packages/numpy/lib/function_base.py\", line 4406, in delete\n",
      "    keep[obj,] = False\n",
      "IndexError: index 9 is out of bounds for axis 0 with size 5\n",
      "\n",
      "----------------------------------------------------------------------\n",
      "Ran 8 tests in 0.258s\n",
      "\n",
      "FAILED (errors=2)\n"
     ]
    },
    {
     "name": "stdout",
     "output_type": "stream",
     "text": [
      "Test Successful!\n",
      "Created KNN regressor with k=2!\n",
      "1 149 1\n",
      "Test Successful!\n"
     ]
    },
    {
     "name": "stderr",
     "output_type": "stream",
     "text": [
      "EE..........."
     ]
    },
    {
     "name": "stdout",
     "output_type": "stream",
     "text": [
      "Created KNN regressor with k=2!\n",
      "1 149 1\n",
      "Test Successful!\n",
      "Created KNN classifier with k=4!\n",
      "1 150 1\n",
      "Test Successful!\n",
      "Created KNN regressor with k=2!\n",
      "Successfully completed train/test split!\n",
      "Training set: 3 samples\n",
      "Test set: 1 samples\n",
      "3 1 3 1\n",
      "3 1 3 1\n",
      "Result successful\n",
      "Created KNN classifier with k=3!\n",
      "Successfully completed train/test split!\n",
      "Training set: 3 samples\n",
      "Test set: 2 samples\n",
      "3 2 3 2\n",
      "3 2 3 2\n",
      "Result successfull\n",
      "Created KNN regressor with k=7!\n",
      "Dataset successfully loaded!\n",
      "Successfully completed train/test split!\n",
      "Training set: 294 samples\n",
      "Test set: 98 samples\n",
      "from setUpClass\n",
      "Test Success!!!\n",
      "Test Success!!!\n",
      "Test Success!!!\n",
      "Test Success!!!\n",
      "Regressor Assessment: \n",
      " RMSE 3.557730875093257 MAE: 2.814285714285714 MAPE: 11.56025739815377 MSE: 12.657448979591832\n",
      "Created KNN classifier with k=4!\n",
      "Dataset successfully loaded!\n",
      "Successfully completed train/test split!\n",
      "Training set: 120 samples\n",
      "Test set: 30 samples\n",
      "from setUpClass\n",
      "Test Success!!!\n",
      "Test Success!!!\n",
      "Test Success!!!\n",
      "Test Success!!!\n",
      "Classifier Assessment: \n",
      " Accuracy: 0.6666666666666666 Misclassification Rate: 0.3333333333333333 Numbers classified Correctly: 2 Numbers classified Incorrectly: 1\n",
      "Created KNN regressor with k=3!\n",
      "Created KNN classifier with k=4!\n",
      "Dataset successfully loaded!\n",
      "Successfully completed train/test split!\n",
      "Training set: 275 samples\n",
      "Test set: 117 samples\n",
      "Dataset successfully loaded!\n",
      "Successfully completed train/test split!\n",
      "Training set: 105 samples\n",
      "Test set: 45 samples\n",
      "Test complete. Nothing to tear down.\n",
      "Dataset successfully loaded!\n",
      "Successfully completed train/test split!\n",
      "Training set: 275 samples\n",
      "Test set: 117 samples\n",
      "Dataset successfully loaded!\n",
      "Successfully completed train/test split!\n",
      "Training set: 105 samples\n",
      "Test set: 45 samples\n",
      "Test complete. Nothing to tear down."
     ]
    },
    {
     "name": "stderr",
     "output_type": "stream",
     "text": [
      ".."
     ]
    },
    {
     "name": "stdout",
     "output_type": "stream",
     "text": [
      "\n",
      "Dataset successfully loaded!\n",
      "Successfully completed train/test split!\n",
      "Training set: 275 samples\n",
      "Test set: 117 samples\n",
      "Dataset successfully loaded!\n",
      "Successfully completed train/test split!\n",
      "Training set: 105 samples\n",
      "Test set: 45 samples\n",
      "Test complete. Nothing to tear down.\n",
      "\n",
      "\n",
      "All tests complete. Sample predictions:\n",
      "Sample regressor:\n",
      "\n",
      "\n",
      "KNN package regressor predictions:\n",
      "[27.6        12.5        35.03333333]\n",
      "Sklearn regressor predictions:\n",
      "[27.6        12.5        35.03333333]\n",
      "\n",
      "\n",
      "Sample classifier:\n",
      "KNN classifier classifier predictions:\n",
      "['Iris-setosa' 'Iris-virginica' 'Iris-setosa']\n",
      "Sklearn classifier predictions:\n",
      "['Iris-setosa' 'Iris-virginica' 'Iris-setosa']\n",
      "Created CV instance for KNN regressor with 5 folds!\n",
      "Dataset successfully loaded!\n",
      "Successfully completed train/test split!\n",
      "Training set: 275 samples\n",
      "Test set: 117 samples\n",
      "Created CV instance for KNN classifier with 8 folds!\n",
      "Dataset successfully loaded!\n",
      "Successfully completed train/test split!\n",
      "Training set: 105 samples\n",
      "Test set: 45 samples\n",
      "Successfully performed 5 CV!\n"
     ]
    },
    {
     "name": "stderr",
     "output_type": "stream",
     "text": [
      "."
     ]
    },
    {
     "name": "stdout",
     "output_type": "stream",
     "text": [
      "Successfully performed 8 CV!\n",
      "Best k: 20\n",
      "CV MSE: 23.513124\n",
      "Best k: 3\n",
      "CV Misclassification Rate: 0.038461538461538464\n",
      "Test complete.\n",
      "Successfully performed 5 CV!\n",
      "Successfully performed 8 CV!\n",
      "k=2: 28.291827272727268\n",
      "k=3: 26.178767676767684\n",
      "k=4: 24.97580681818182\n",
      "k=6: 23.690693939393938\n",
      "k=10: 23.748168363636363\n",
      "k=20: 23.513124\n"
     ]
    },
    {
     "data": {
      "image/png": "[encoded data removed]",
      "text/plain": [
       "<Figure size 432x288 with 1 Axes>"
      ]
     },
     "metadata": {
      "needs_background": "light"
     },
     "output_type": "display_data"
    },
    {
     "name": "stdout",
     "output_type": "stream",
     "text": [
      "k=2: 0.09615384615384617\n",
      "k=3: 0.038461538461538464\n",
      "k=4: 0.06730769230769232\n",
      "k=6: 0.06730769230769232\n",
      "k=10: 0.07692307692307693\n",
      "k=20: 0.09615384615384616\n"
     ]
    },
    {
     "data": {
      "image/png": "[encoded data removed]",
      "text/plain": [
       "<Figure size 432x288 with 1 Axes>"
      ]
     },
     "metadata": {
      "needs_background": "light"
     },
     "output_type": "display_data"
    },
    {
     "name": "stderr",
     "output_type": "stream",
     "text": [
      "."
     ]
    },
    {
     "name": "stdout",
     "output_type": "stream",
     "text": [
      "Test complete.\n",
      "Successfully performed 5 CV!\n"
     ]
    },
    {
     "name": "stderr",
     "output_type": "stream",
     "text": [
      "."
     ]
    },
    {
     "name": "stdout",
     "output_type": "stream",
     "text": [
      "Successfully performed 8 CV!\n",
      "Test complete.\n",
      "All tests complete. Nothing to tear down.\n",
      "<unittest.runner.TextTestResult run=18 errors=2 failures=0>\n"
     ]
    },
    {
     "name": "stderr",
     "output_type": "stream",
     "text": [
      "\n",
      "======================================================================\n",
      "ERROR: test_load_csv (test_load_csv.Testload_csv)\n",
      "----------------------------------------------------------------------\n",
      "Traceback (most recent call last):\n",
      "  File \"/Users/ericphillips/ubc_mds/data_533/knn_unittest/test_load_csv.py\", line 24, in test_load_csv\n",
      "    self.x = np.delete(self.data,self.y,axis=1).astype(float)\n",
      "  File \"<__array_function__ internals>\", line 5, in delete\n",
      "  File \"/Users/ericphillips/Library/Caches/pypoetry/virtualenvs/ubc-mds-wdiN2fIt-py3.8/lib/python3.8/site-packages/numpy/lib/function_base.py\", line 4406, in delete\n",
      "    keep[obj,] = False\n",
      "IndexError: index 9 is out of bounds for axis 0 with size 5\n",
      "\n",
      "======================================================================\n",
      "ERROR: test_varible_size (test_load_csv.TestVariables)\n",
      "----------------------------------------------------------------------\n",
      "Traceback (most recent call last):\n",
      "  File \"/Users/ericphillips/ubc_mds/data_533/knn_unittest/test_load_csv.py\", line 55, in test_varible_size\n",
      "    self.x = (np.delete(self.data, self.y, axis = 1))\n",
      "  File \"<__array_function__ internals>\", line 5, in delete\n",
      "  File \"/Users/ericphillips/Library/Caches/pypoetry/virtualenvs/ubc-mds-wdiN2fIt-py3.8/lib/python3.8/site-packages/numpy/lib/function_base.py\", line 4406, in delete\n",
      "    keep[obj,] = False\n",
      "IndexError: index 9 is out of bounds for axis 0 with size 5\n",
      "\n",
      "----------------------------------------------------------------------\n",
      "Ran 18 tests in 17.466s\n",
      "\n",
      "FAILED (errors=2)\n"
     ]
    }
   ],
   "source": [
    "import unittest\n",
    "## Poojitha\n",
    "from test_load_csv import Testload_csv\n",
    "from test_load_csv import TestVariables\n",
    "from test_train_split import TestDataCollection_regressor\n",
    "from test_train_split import TestDataCollection_classifier\n",
    "from test_regression_metrics import TestRegressionMetrics\n",
    "from test_classification_metrics import TestClassificationMetrics \n",
    "## Eric\n",
    "from test_generate_predictions import test_generate_predictions\n",
    "from test_cross_validation import test_cross_validation\n",
    "def my_suite():\n",
    "    suite = unittest.TestSuite()\n",
    "    result = unittest.TestResult()\n",
    "    ## Poojitha\n",
    "    suite.addTest(unittest.makeSuite(Testload_csv))\n",
    "    suite.addTest(unittest.makeSuite(TestVariables))\n",
    "    suite.addTest(unittest.makeSuite(TestDataCollection_regressor))\n",
    "    suite.addTest(unittest.makeSuite(TestDataCollection_classifier))\n",
    "    suite.addTest(unittest.makeSuite(TestRegressionMetrics))\n",
    "    suite.addTest(unittest.makeSuite(TestClassificationMetrics))\n",
    "    ## Eric\n",
    "    suite.addTest(unittest.makeSuite(test_generate_predictions))\n",
    "    suite.addTest(unittest.makeSuite(test_cross_validation))\n",
    "    \n",
    "    runner = unittest.TextTestRunner()\n",
    "    print(runner.run(suite))\n",
    "my_suite()"
   ]
  },
  {
   "cell_type": "code",
   "execution_count": null,
   "metadata": {},
   "outputs": [],
   "source": []
  }
 ],
 "metadata": {
  "kernelspec": {
   "display_name": "ubc_mds",
   "language": "python",
   "name": "ubc_mds"
  },
  "language_info": {
   "codemirror_mode": {
    "name": "ipython",
    "version": 3
   },
   "file_extension": ".py",
   "mimetype": "text/x-python",
   "name": "python",
   "nbconvert_exporter": "python",
   "pygments_lexer": "ipython3",
   "version": "3.8.0"
  }
 },
 "nbformat": 4,
 "nbformat_minor": 4
}
