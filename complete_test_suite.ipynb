{
 "cells": [
  {
   "cell_type": "code",
   "execution_count": 1,
   "metadata": {},
   "outputs": [
    {
     "name": "stderr",
     "output_type": "stream",
     "text": [
      "\n",
      "----------------------------------------------------------------------\n",
      "Ran 0 tests in 0.000s\n",
      "\n",
      "OK\n",
      "test_varible_size (test_load_csv.TestVariables) ... /Volumes/Learnings/workspace/Labs/knn_unittest/test_load_csv.py:55: DeprecationWarning: in the future out of bounds indices will raise an error instead of being ignored by `numpy.delete`.\n",
      "  self.x = (np.delete(self.data, self.y, axis = 1))\n",
      "/Users/poojithagowthaman/opt/anaconda3/lib/python3.8/unittest/case.py:1183: DeprecationWarning: elementwise comparison failed; this will raise an error in the future.\n",
      "  if member in container:\n",
      "ok\n",
      "test_load_csv (test_load_csv.Testload_csv) ... /Volumes/Learnings/workspace/Labs/knn_unittest/test_load_csv.py:24: DeprecationWarning: in the future out of bounds indices will raise an error instead of being ignored by `numpy.delete`.\n",
      "  self.x = np.delete(self.data,self.y,axis=1).astype(float)\n",
      "ok\n",
      "\n",
      "----------------------------------------------------------------------\n",
      "Ran 2 tests in 0.006s\n",
      "\n",
      "OK\n",
      "test_train_test_split_classifier (test_train_split.TestDataCollection_classifier) ... ok\n",
      "test_train_test_split_regressor (test_train_split.TestDataCollection_regressor) ... ok\n",
      "test_varible_size (test_load_csv.TestVariables) ... /Volumes/Learnings/workspace/Labs/knn_unittest/test_load_csv.py:55: DeprecationWarning: in the future out of bounds indices will raise an error instead of being ignored by `numpy.delete`.\n",
      "  self.x = (np.delete(self.data, self.y, axis = 1))\n",
      "/Users/poojithagowthaman/opt/anaconda3/lib/python3.8/unittest/case.py:1183: DeprecationWarning: elementwise comparison failed; this will raise an error in the future.\n",
      "  if member in container:\n",
      "ok\n",
      "test_load_csv (test_load_csv.Testload_csv) ... /Volumes/Learnings/workspace/Labs/knn_unittest/test_load_csv.py:24: DeprecationWarning: in the future out of bounds indices will raise an error instead of being ignored by `numpy.delete`.\n",
      "  self.x = np.delete(self.data,self.y,axis=1).astype(float)\n",
      "ok\n",
      "\n",
      "----------------------------------------------------------------------\n",
      "Ran 4 tests in 0.006s\n",
      "\n",
      "OK\n",
      "test_train_test_split_classifier (test_train_split.TestDataCollection_classifier) ... ok\n",
      "test_train_test_split_regressor (test_train_split.TestDataCollection_regressor) ... ok\n",
      "test_model_mae (test_regression_metrics.TestRegressionMetrics) ... ok\n",
      "test_model_mape (test_regression_metrics.TestRegressionMetrics) ... ok\n",
      "test_model_mse (test_regression_metrics.TestRegressionMetrics) ... ok\n",
      "test_model_rmse (test_regression_metrics.TestRegressionMetrics) ... ok\n",
      "test_varible_size (test_load_csv.TestVariables) ... /Volumes/Learnings/workspace/Labs/knn_unittest/test_load_csv.py:55: DeprecationWarning: in the future out of bounds indices will raise an error instead of being ignored by `numpy.delete`.\n",
      "  self.x = (np.delete(self.data, self.y, axis = 1))\n",
      "/Users/poojithagowthaman/opt/anaconda3/lib/python3.8/unittest/case.py:1183: DeprecationWarning: elementwise comparison failed; this will raise an error in the future.\n",
      "  if member in container:\n",
      "ok\n",
      "test_load_csv (test_load_csv.Testload_csv) ... /Volumes/Learnings/workspace/Labs/knn_unittest/test_load_csv.py:24: DeprecationWarning: in the future out of bounds indices will raise an error instead of being ignored by `numpy.delete`.\n",
      "  self.x = np.delete(self.data,self.y,axis=1).astype(float)\n",
      "ok\n",
      "\n",
      "----------------------------------------------------------------------\n",
      "Ran 8 tests in 0.057s\n",
      "\n",
      "OK\n"
     ]
    },
    {
     "name": "stdout",
     "output_type": "stream",
     "text": [
      "Created KNN classifier with k=4!\n",
      "Dataset successfully loaded!\n",
      "1 150 600\n",
      "Test Successful!\n",
      "Created KNN regressor with k=2!\n",
      "Dataset successfully loaded!\n",
      "1 149 596\n",
      "Test Successful!\n",
      "Created KNN classifier with k=3!\n",
      "Successfully completed train/test split!\n",
      "Training set: 3 samples\n",
      "Test set: 2 samples\n",
      "3 2 3 2\n",
      "3 2 3 2\n",
      "Result successfull\n",
      "Created KNN regressor with k=2!\n",
      "Successfully completed train/test split!\n",
      "Training set: 3 samples\n",
      "Test set: 1 samples\n",
      "3 1 3 1\n",
      "3 1 3 1\n",
      "Result successful\n",
      "Created KNN classifier with k=4!\n",
      "Dataset successfully loaded!\n",
      "1 150 600\n",
      "Test Successful!\n",
      "Created KNN regressor with k=2!\n",
      "Dataset successfully loaded!\n",
      "1 149 596\n",
      "Test Successful!\n",
      "Created KNN classifier with k=3!\n",
      "Successfully completed train/test split!\n",
      "Training set: 3 samples\n",
      "Test set: 2 samples\n",
      "3 2 3 2\n",
      "3 2 3 2\n",
      "Result successfull\n",
      "Created KNN regressor with k=2!\n",
      "Successfully completed train/test split!\n",
      "Training set: 3 samples\n",
      "Test set: 1 samples\n",
      "3 1 3 1\n",
      "3 1 3 1\n",
      "Result successful\n",
      "Created KNN regressor with k=7!\n",
      "Dataset successfully loaded!\n",
      "Successfully completed train/test split!\n",
      "Training set: 294 samples\n",
      "Test set: 98 samples\n",
      "from setUpClass\n",
      "Test Success!!!\n",
      "Test Success!!!\n",
      "Test Success!!!\n",
      "Test Success!!!\n",
      "Regressor Assessment: \n",
      " RMSE 1.8599429440448005 MAE: 1.3357142857142854 MAPE: 5.881068483838996 MSE: 3.45938775510204\n",
      "Created KNN classifier with k=4!\n",
      "Dataset successfully loaded!\n",
      "1 150 600\n",
      "Test Successful!\n",
      "Created KNN regressor with k=2!\n",
      "Dataset successfully loaded!\n",
      "1 149 596\n",
      "Test Successful!\n"
     ]
    },
    {
     "name": "stderr",
     "output_type": "stream",
     "text": [
      "..............."
     ]
    },
    {
     "name": "stdout",
     "output_type": "stream",
     "text": [
      "Created KNN regressor with k=2!\n",
      "Dataset successfully loaded!\n",
      "1 149 596\n",
      "Test Successful!\n",
      "Created KNN classifier with k=4!\n",
      "Dataset successfully loaded!\n",
      "1 150 600\n",
      "Test Successful!\n",
      "Created KNN regressor with k=2!\n",
      "Successfully completed train/test split!\n",
      "Training set: 3 samples\n",
      "Test set: 1 samples\n",
      "3 1 3 1\n",
      "3 1 3 1\n",
      "Result successful\n",
      "Created KNN classifier with k=3!\n",
      "Successfully completed train/test split!\n",
      "Training set: 3 samples\n",
      "Test set: 2 samples\n",
      "3 2 3 2\n",
      "3 2 3 2\n",
      "Result successfull\n",
      "Created KNN regressor with k=7!\n",
      "Dataset successfully loaded!\n",
      "Successfully completed train/test split!\n",
      "Training set: 294 samples\n",
      "Test set: 98 samples\n",
      "from setUpClass\n",
      "Test Success!!!\n",
      "Test Success!!!\n",
      "Test Success!!!\n",
      "Test Success!!!\n",
      "Regressor Assessment: \n",
      " RMSE 3.382337073922802 MAE: 2.835714285714287 MAPE: 11.870991531624098 MSE: 11.440204081632661\n",
      "Created KNN classifier with k=4!\n",
      "Dataset successfully loaded!\n",
      "Successfully completed train/test split!\n",
      "Training set: 120 samples\n",
      "Test set: 30 samples\n",
      "from setUpClass\n",
      "Test Success!!!\n",
      "Test Success!!!\n",
      "Test Success!!!\n",
      "Test Success!!!\n",
      "Classifier Assessment: \n",
      " Accuracy: 0.6666666666666666 Misclassification Rate: 0.3333333333333333 Numbers classified Correctly: 2 Numbers classified Incorrectly: 1\n",
      "Created KNN regressor with k=3!\n",
      "Created KNN classifier with k=4!\n",
      "Dataset successfully loaded!\n",
      "Successfully completed train/test split!\n",
      "Training set: 275 samples\n",
      "Test set: 117 samples\n",
      "Dataset successfully loaded!\n",
      "Successfully completed train/test split!\n",
      "Training set: 105 samples\n",
      "Test set: 45 samples\n",
      "Test complete. Nothing to tear down.\n",
      "Dataset successfully loaded!\n",
      "Successfully completed train/test split!\n",
      "Training set: 275 samples\n",
      "Test set: 117 samples\n",
      "Dataset successfully loaded!\n",
      "Successfully completed train/test split!\n",
      "Training set: 105 samples\n",
      "Test set: 45 samples\n",
      "Test complete. Nothing to tear down.\n",
      "Dataset successfully loaded!\n",
      "Successfully completed train/test split!\n",
      "Training set: 275 samples\n",
      "Test set: 117 samples\n",
      "Dataset successfully loaded!\n",
      "Successfully completed train/test split!\n",
      "Training set: 105 samples\n",
      "Test set: 45 samples\n",
      "Test complete. Nothing to tear down.\n",
      "\n",
      "\n",
      "All tests complete. Sample predictions:\n",
      "Sample regressor:\n",
      "\n",
      "\n",
      "KNN package regressor predictions:\n",
      "[27.6        12.5        35.03333333]\n",
      "Sklearn regressor predictions:\n",
      "[27.6        12.5        35.03333333]\n",
      "\n",
      "\n",
      "Sample classifier:\n",
      "KNN classifier classifier predictions:\n",
      "['Iris-setosa' 'Iris-virginica' 'Iris-setosa']\n",
      "Sklearn classifier predictions:\n",
      "['Iris-setosa' 'Iris-virginica' 'Iris-setosa']\n",
      "Created CV instance for KNN regressor with 5 folds!\n",
      "Dataset successfully loaded!\n",
      "Successfully completed train/test split!\n",
      "Training set: 275 samples\n",
      "Test set: 117 samples\n",
      "Created CV instance for KNN classifier with 8 folds!\n",
      "Dataset successfully loaded!\n",
      "Successfully completed train/test split!\n",
      "Training set: 105 samples\n",
      "Test set: 45 samples\n",
      "Successfully performed 5 CV!\n"
     ]
    },
    {
     "name": "stderr",
     "output_type": "stream",
     "text": [
      "."
     ]
    },
    {
     "name": "stdout",
     "output_type": "stream",
     "text": [
      "Successfully performed 8 CV!\n",
      "Best k: 20\n",
      "CV MSE: 21.09771263636364\n",
      "Best k: 3\n",
      "CV Misclassification Rate: 0.06730769230769232\n",
      "Test complete.\n",
      "Successfully performed 5 CV!\n",
      "Successfully performed 8 CV!\n",
      "k=2: 26.560754545454547\n",
      "k=3: 23.649733333333337\n",
      "k=4: 22.997870454545456\n",
      "k=6: 22.12927575757576\n",
      "k=10: 21.14857018181818\n",
      "k=20: 21.09771263636364\n"
     ]
    },
    {
     "data": {
      "image/png": "[encoded data removed]",
      "text/plain": [
       "<Figure size 432x288 with 1 Axes>"
      ]
     },
     "metadata": {
      "needs_background": "light"
     },
     "output_type": "display_data"
    },
    {
     "name": "stdout",
     "output_type": "stream",
     "text": [
      "k=2: 0.10576923076923077\n",
      "k=3: 0.06730769230769232\n",
      "k=4: 0.07692307692307693\n",
      "k=6: 0.08653846153846154\n",
      "k=10: 0.06730769230769232\n",
      "k=20: 0.11538461538461539\n"
     ]
    },
    {
     "data": {
      "image/png": "[encoded data removed]",
      "text/plain": [
       "<Figure size 432x288 with 1 Axes>"
      ]
     },
     "metadata": {
      "needs_background": "light"
     },
     "output_type": "display_data"
    },
    {
     "name": "stderr",
     "output_type": "stream",
     "text": [
      "."
     ]
    },
    {
     "name": "stdout",
     "output_type": "stream",
     "text": [
      "Test complete.\n",
      "Successfully performed 5 CV!\n"
     ]
    },
    {
     "name": "stderr",
     "output_type": "stream",
     "text": [
      "."
     ]
    },
    {
     "name": "stdout",
     "output_type": "stream",
     "text": [
      "Successfully performed 8 CV!\n",
      "Test complete.\n",
      "All tests complete. Nothing to tear down.\n",
      "<unittest.runner.TextTestResult run=18 errors=0 failures=0>\n"
     ]
    },
    {
     "name": "stderr",
     "output_type": "stream",
     "text": [
      "\n",
      "----------------------------------------------------------------------\n",
      "Ran 18 tests in 10.610s\n",
      "\n",
      "OK\n"
     ]
    }
   ],
   "source": [
    "import unittest\n",
    "## Poojitha\n",
    "from test_load_csv import Testload_csv\n",
    "from test_load_csv import TestVariables\n",
    "from test_train_split import TestDataCollection_regressor\n",
    "from test_train_split import TestDataCollection_classifier\n",
    "from test_regression_metrics import TestRegressionMetrics\n",
    "from test_classification_metrics import TestClassificationMetrics \n",
    "## Eric\n",
    "from test_generate_predictions import test_generate_predictions\n",
    "from test_cross_validation import test_cross_validation\n",
    "def my_suite():\n",
    "    suite = unittest.TestSuite()\n",
    "    result = unittest.TestResult()\n",
    "    ## Poojitha\n",
    "    suite.addTest(unittest.makeSuite(Testload_csv))\n",
    "    suite.addTest(unittest.makeSuite(TestVariables))\n",
    "    suite.addTest(unittest.makeSuite(TestDataCollection_regressor))\n",
    "    suite.addTest(unittest.makeSuite(TestDataCollection_classifier))\n",
    "    suite.addTest(unittest.makeSuite(TestRegressionMetrics))\n",
    "    suite.addTest(unittest.makeSuite(TestClassificationMetrics))\n",
    "    ## Eric\n",
    "    suite.addTest(unittest.makeSuite(test_generate_predictions))\n",
    "    suite.addTest(unittest.makeSuite(test_cross_validation))\n",
    "    \n",
    "    runner = unittest.TextTestRunner()\n",
    "    print(runner.run(suite))\n",
    "my_suite()"
   ]
  },
  {
   "cell_type": "code",
   "execution_count": null,
   "metadata": {},
   "outputs": [],
   "source": []
  }
 ],
 "metadata": {
  "kernelspec": {
   "display_name": "Python 3",
   "language": "python",
   "name": "python3"
  },
  "language_info": {
   "codemirror_mode": {
    "name": "ipython",
    "version": 3
   },
   "file_extension": ".py",
   "mimetype": "text/x-python",
   "name": "python",
   "nbconvert_exporter": "python",
   "pygments_lexer": "ipython3",
   "version": "3.8.3"
  }
 },
 "nbformat": 4,
 "nbformat_minor": 4
}
