{
 "cells": [
  {
   "cell_type": "code",
   "execution_count": 1,
   "metadata": {},
   "outputs": [],
   "source": [
    "from KNN.modelling import KNN_data_collection as knn\n",
    "from KNN.modelling import generate_predictions as gp\n",
    "from KNN.assessment import model_metrics as mm\n",
    "from KNN.assessment import cross_validation as cv"
   ]
  },
  {
   "cell_type": "code",
   "execution_count": 2,
   "metadata": {},
   "outputs": [],
   "source": [
    "import numpy as np"
   ]
  },
  {
   "cell_type": "markdown",
   "metadata": {},
   "source": [
    "**Example 1: KNN classifier using Iris dataset**"
   ]
  },
  {
   "cell_type": "markdown",
   "metadata": {},
   "source": [
    "*Create model & perform train/test split*"
   ]
  },
  {
   "cell_type": "code",
   "execution_count": 3,
   "metadata": {},
   "outputs": [
    {
     "name": "stdout",
     "output_type": "stream",
     "text": [
      "Created KNN classifier with k=8!\n"
     ]
    }
   ],
   "source": [
    "# Create classifier with k=8\n",
    "iris_classifier=knn.KNN('classifier',8)"
   ]
  },
  {
   "cell_type": "code",
   "execution_count": 4,
   "metadata": {},
   "outputs": [
    {
     "name": "stdout",
     "output_type": "stream",
     "text": [
      "Dataset successfully loaded!\n"
     ]
    }
   ],
   "source": [
    "# Load dataset into classifier and set response variable to \"Species\"\n",
    "iris_classifier.load_csv('datasets/Iris.csv','Species')"
   ]
  },
  {
   "cell_type": "code",
   "execution_count": 5,
   "metadata": {},
   "outputs": [
    {
     "name": "stdout",
     "output_type": "stream",
     "text": [
      "Successfully completed train/test split!\n",
      "Training set: 120 samples\n",
      "Test set: 30 samples\n"
     ]
    }
   ],
   "source": [
    "# Perform a 80/20 train/test split\n",
    "iris_classifier.train_test_split(0.2)"
   ]
  },
  {
   "cell_type": "markdown",
   "metadata": {},
   "source": [
    "*Generate predictions*"
   ]
  },
  {
   "cell_type": "code",
   "execution_count": 6,
   "metadata": {},
   "outputs": [
    {
     "data": {
      "text/plain": [
       "array('Iris-versicolor', dtype=object)"
      ]
     },
     "execution_count": 6,
     "metadata": {},
     "output_type": "execute_result"
    }
   ],
   "source": [
    "# Generate a prediction using \"generate_predictions\" module\n",
    "   # Generate prediction using fit on entire dataset\n",
    "gp.generate_prediction(iris_classifier,[6.3,2.3,4.4,1.3],'all')"
   ]
  },
  {
   "cell_type": "code",
   "execution_count": 7,
   "metadata": {},
   "outputs": [
    {
     "data": {
      "text/plain": [
       "array(['Iris-versicolor', 'Iris-virginica', 'Iris-setosa'], dtype=object)"
      ]
     },
     "execution_count": 7,
     "metadata": {},
     "output_type": "execute_result"
    }
   ],
   "source": [
    "# Generate multiple predictions\n",
    "   # Generate prediction using fit on training set only\n",
    "to_predict=np.array([[6.3,2.3,4.4,1.3],[6.8,3.2,5.9,2.3],[4.3,3,1.1,0.1]])\n",
    "gp.generate_predictions(iris_classifier,to_predict,'all')"
   ]
  },
  {
   "cell_type": "markdown",
   "metadata": {},
   "source": [
    "*Assess model performance for these predictions*"
   ]
  },
  {
   "cell_type": "code",
   "execution_count": 8,
   "metadata": {},
   "outputs": [
    {
     "data": {
      "text/plain": [
       "0.6666666666666666"
      ]
     },
     "execution_count": 8,
     "metadata": {},
     "output_type": "execute_result"
    }
   ],
   "source": [
    "# Compute model accuracy for these 3 hypothetical predictions\n",
    "mm.model_accuracy(['Iris-virginica', 'Iris-virginica', 'Iris-setosa'],gp.generate_predictions(iris_classifier,to_predict,'all'))"
   ]
  },
  {
   "cell_type": "code",
   "execution_count": 9,
   "metadata": {},
   "outputs": [
    {
     "data": {
      "text/plain": [
       "0.3333333333333333"
      ]
     },
     "execution_count": 9,
     "metadata": {},
     "output_type": "execute_result"
    }
   ],
   "source": [
    "# Compute model misclassification rate for these 3 hypothetical predictions\n",
    "mm.model_misclassification(['Iris-virginica', 'Iris-virginica', 'Iris-setosa'],gp.generate_predictions(iris_classifier,to_predict,'all'))"
   ]
  },
  {
   "cell_type": "code",
   "execution_count": 36,
   "metadata": {},
   "outputs": [
    {
     "data": {
      "text/plain": [
       "2"
      ]
     },
     "execution_count": 36,
     "metadata": {},
     "output_type": "execute_result"
    }
   ],
   "source": [
    "# Check number correct\n",
    "mm.model_num_correct(['Iris-virginica', 'Iris-virginica', 'Iris-setosa'],gp.generate_predictions(iris_classifier,to_predict,'all'))"
   ]
  },
  {
   "cell_type": "code",
   "execution_count": 37,
   "metadata": {},
   "outputs": [
    {
     "data": {
      "text/plain": [
       "1"
      ]
     },
     "execution_count": 37,
     "metadata": {},
     "output_type": "execute_result"
    }
   ],
   "source": [
    "# Check number incorrect\n",
    "mm.model_num_incorrect(['Iris-virginica', 'Iris-virginica', 'Iris-setosa'],gp.generate_predictions(iris_classifier,to_predict,'all'))"
   ]
  },
  {
   "cell_type": "markdown",
   "metadata": {},
   "source": [
    "*Assess model performance on test set*"
   ]
  },
  {
   "cell_type": "code",
   "execution_count": 10,
   "metadata": {},
   "outputs": [
    {
     "name": "stdout",
     "output_type": "stream",
     "text": [
      "Test accuracy: 0.8333333333333334\n",
      "Test misclassification rate: 0.16666666666666666\n",
      "Num correct predictions: 25\n",
      "Num incorrect predictions: 5\n"
     ]
    },
    {
     "name": "stderr",
     "output_type": "stream",
     "text": [
      "/Users/ericphillips/ubc_mds/data_533/knn/KNN/modelling/generate_predictions.py:27: UserWarning: Warning: A tie has occurred (top two classes in K nearest neighbors have the same number of occurances). Classification depends on the order of the training data.\n",
      "  warnings.warn('Warning: A tie has occurred (top two classes in K nearest neighbors have the same number of occurances). Classification depends on the order of the training data.')\n"
     ]
    }
   ],
   "source": [
    "mm.assessment_metrics(iris_classifier)"
   ]
  },
  {
   "cell_type": "code",
   "execution_count": null,
   "metadata": {},
   "outputs": [],
   "source": [
    "## Above warning indicates that a tie occurred while generating test set predictions\n",
    "   # This is explained by our choice of an even number for k"
   ]
  },
  {
   "cell_type": "markdown",
   "metadata": {},
   "source": [
    "*Tune k hyperparameter using 6-fold cross validation*"
   ]
  },
  {
   "cell_type": "code",
   "execution_count": 11,
   "metadata": {},
   "outputs": [
    {
     "name": "stdout",
     "output_type": "stream",
     "text": [
      "Created CV instance for KNN classifier with 6 folds!\n"
     ]
    }
   ],
   "source": [
    "# Create CV instance for 6-fold CV\n",
    "iris_cv=cv.CvKNN('classifier',6)"
   ]
  },
  {
   "cell_type": "code",
   "execution_count": 12,
   "metadata": {},
   "outputs": [
    {
     "name": "stdout",
     "output_type": "stream",
     "text": [
      "Dataset successfully loaded!\n",
      "Successfully completed train/test split!\n",
      "Training set: 120 samples\n",
      "Test set: 30 samples\n"
     ]
    }
   ],
   "source": [
    "# Load dataset into CV instance and set response variable to \"Species\"\n",
    "iris_cv.load_csv('datasets/Iris.csv','Species')\n",
    "# Perform 80/20 train/test split\n",
    "iris_cv.train_test_split(0.2)"
   ]
  },
  {
   "cell_type": "code",
   "execution_count": 17,
   "metadata": {},
   "outputs": [
    {
     "name": "stdout",
     "output_type": "stream",
     "text": [
      "Successfully performed 6 CV!\n"
     ]
    }
   ],
   "source": [
    "# Perform 6-fold CV for k values 1 through 10\n",
    "iris_cv.perform_cv(np.arange(1,11))"
   ]
  },
  {
   "cell_type": "code",
   "execution_count": 18,
   "metadata": {},
   "outputs": [
    {
     "name": "stdout",
     "output_type": "stream",
     "text": [
      "k=1: 0.041666666666666664\n",
      "k=2: 0.05833333333333334\n",
      "k=3: 0.05000000000000001\n",
      "k=4: 0.041666666666666664\n",
      "k=5: 0.03333333333333333\n",
      "k=6: 0.041666666666666664\n",
      "k=7: 0.05000000000000001\n",
      "k=8: 0.05000000000000001\n",
      "k=9: 0.075\n",
      "k=10: 0.08333333333333333\n"
     ]
    },
    {
     "data": {
      "image/png": "[encoded data removed]",
      "text/plain": [
       "<Figure size 432x288 with 1 Axes>"
      ]
     },
     "metadata": {
      "needs_background": "light"
     },
     "output_type": "display_data"
    }
   ],
   "source": [
    "# Examine CV results\n",
    "iris_cv.get_cv_results()"
   ]
  },
  {
   "cell_type": "code",
   "execution_count": 19,
   "metadata": {},
   "outputs": [
    {
     "name": "stdout",
     "output_type": "stream",
     "text": [
      "Best k: 5\n",
      "CV Misclassification Rate: 0.03333333333333333\n"
     ]
    }
   ],
   "source": [
    "# Get best K\n",
    "   # This sets \"k\" instance attribute to allow for assessment on test set using tuned k\n",
    "iris_cv.get_best_k()"
   ]
  },
  {
   "cell_type": "code",
   "execution_count": 20,
   "metadata": {},
   "outputs": [
    {
     "name": "stdout",
     "output_type": "stream",
     "text": [
      "Test accuracy: 0.8666666666666667\n",
      "Test misclassification rate: 0.13333333333333333\n",
      "Num correct predictions: 26\n",
      "Num incorrect predictions: 4\n"
     ]
    }
   ],
   "source": [
    "# Examine classifier performance on test set using tuned k hyperparameter\n",
    "mm.assessment_metrics(iris_cv)"
   ]
  },
  {
   "cell_type": "code",
   "execution_count": 21,
   "metadata": {},
   "outputs": [],
   "source": [
    "# 6-fold CV indicated we should change our k hyperparameter from 8 to 5\n",
    "   # Improved model test accuracy by 3.33%"
   ]
  },
  {
   "cell_type": "code",
   "execution_count": null,
   "metadata": {},
   "outputs": [],
   "source": []
  },
  {
   "cell_type": "markdown",
   "metadata": {},
   "source": [
    "**Example 2: KNN regressor using auto_mpg dataset**"
   ]
  },
  {
   "cell_type": "markdown",
   "metadata": {},
   "source": [
    "*Create model and perform train/test split*"
   ]
  },
  {
   "cell_type": "code",
   "execution_count": 22,
   "metadata": {},
   "outputs": [
    {
     "name": "stdout",
     "output_type": "stream",
     "text": [
      "Created KNN regressor with k=7!\n"
     ]
    }
   ],
   "source": [
    "# Create classifier with k=7\n",
    "mpg_regressor=knn.KNN('regressor',7)"
   ]
  },
  {
   "cell_type": "code",
   "execution_count": 24,
   "metadata": {},
   "outputs": [
    {
     "name": "stdout",
     "output_type": "stream",
     "text": [
      "Dataset successfully loaded!\n"
     ]
    }
   ],
   "source": [
    "# Load dataset into regressor and set response variable to 'mpg'\n",
    "mpg_regressor.load_csv('datasets/auto_mpg.csv','mpg')"
   ]
  },
  {
   "cell_type": "code",
   "execution_count": 25,
   "metadata": {},
   "outputs": [
    {
     "name": "stdout",
     "output_type": "stream",
     "text": [
      "Successfully completed train/test split!\n",
      "Training set: 294 samples\n",
      "Test set: 98 samples\n"
     ]
    }
   ],
   "source": [
    "# Perform 75/25 train/test split\n",
    "mpg_regressor.train_test_split(0.25)"
   ]
  },
  {
   "cell_type": "markdown",
   "metadata": {},
   "source": [
    "*Generate predictions*"
   ]
  },
  {
   "cell_type": "code",
   "execution_count": 53,
   "metadata": {},
   "outputs": [
    {
     "data": {
      "text/plain": [
       "18.957142857142856"
      ]
     },
     "execution_count": 53,
     "metadata": {},
     "output_type": "execute_result"
    }
   ],
   "source": [
    "# Generate single prediction from fit on full set\n",
    "gp.generate_prediction(mpg_regressor,[6,250,100,3282,15],'all')"
   ]
  },
  {
   "cell_type": "code",
   "execution_count": 54,
   "metadata": {},
   "outputs": [
    {
     "data": {
      "text/plain": [
       "array([18.64285714, 17.98571429, 31.18571429, 29.94285714])"
      ]
     },
     "execution_count": 54,
     "metadata": {},
     "output_type": "execute_result"
    }
   ],
   "source": [
    "# Generate multiple predictions from fit on training set\n",
    "mpg_to_predict=np.array([[6,250,100,3282,15],[6,250,88,3139,14.5],\n",
    "                        [4,122,86,2220,14],[4,116,90,2123,14]])\n",
    "gp.generate_predictions(mpg_regressor,mpg_to_predict,'train')"
   ]
  },
  {
   "cell_type": "code",
   "execution_count": 55,
   "metadata": {},
   "outputs": [],
   "source": [
    "# Assess model performance on these 4 values\n",
    "actual_mpg=[19,18,23,28]\n",
    "predicted_mpg=gp.generate_predictions(mpg_regressor,mpg_to_predict,'train')"
   ]
  },
  {
   "cell_type": "code",
   "execution_count": 56,
   "metadata": {},
   "outputs": [
    {
     "name": "stdout",
     "output_type": "stream",
     "text": [
      "Root mean squared error\n",
      "4.210355310034379\n",
      "Mean squared error\n",
      "17.727091836734697\n",
      "Mean absolute percent error\n",
      "11.121975487372675\n",
      "Mean absolute error\n",
      "2.625\n"
     ]
    }
   ],
   "source": [
    "# Compute RMSE, MSE, MAPE, MAE\n",
    "print('Root mean squared error')\n",
    "print(mm.model_rmse(actual_mpg,predicted_mpg))\n",
    "print('Mean squared error')\n",
    "print(mm.model_mse(actual_mpg,predicted_mpg))\n",
    "print('Mean absolute percent error')\n",
    "print(mm.model_mape(actual_mpg,predicted_mpg))\n",
    "print('Mean absolute error')\n",
    "print(mm.model_mae(actual_mpg,predicted_mpg))"
   ]
  },
  {
   "cell_type": "markdown",
   "metadata": {},
   "source": [
    "*Assess model performance on test set*"
   ]
  },
  {
   "cell_type": "code",
   "execution_count": 38,
   "metadata": {},
   "outputs": [
    {
     "name": "stdout",
     "output_type": "stream",
     "text": [
      "Test MSE: 20.935974593919205\n",
      "Test RMSE: 4.575584617720364\n",
      "Test MAE: 3.3689504373177845\n",
      "Test MAPE: 14.555844306759363%\n"
     ]
    }
   ],
   "source": [
    "mm.assessment_metrics(mpg_regressor)"
   ]
  },
  {
   "cell_type": "markdown",
   "metadata": {},
   "source": [
    "*Tune k hyperparameter using 8-fold cross validation*"
   ]
  },
  {
   "cell_type": "code",
   "execution_count": 39,
   "metadata": {},
   "outputs": [
    {
     "name": "stdout",
     "output_type": "stream",
     "text": [
      "Created CV instance for KNN regressor with 8 folds!\n"
     ]
    }
   ],
   "source": [
    "# Create CV instance for 8-fold CV\n",
    "mpg_cv=cv.CvKNN('regressor',8)"
   ]
  },
  {
   "cell_type": "code",
   "execution_count": 40,
   "metadata": {},
   "outputs": [
    {
     "name": "stdout",
     "output_type": "stream",
     "text": [
      "Dataset successfully loaded!\n",
      "Successfully completed train/test split!\n",
      "Training set: 314 samples\n",
      "Test set: 78 samples\n"
     ]
    }
   ],
   "source": [
    "# Load dataset into CV instance and set response variable to \"mpg\"\n",
    "mpg_cv.load_csv('datasets/auto_mpg.csv','mpg')\n",
    "# Perform 75/25 train/test split\n",
    "mpg_cv.train_test_split(0.2)"
   ]
  },
  {
   "cell_type": "code",
   "execution_count": 41,
   "metadata": {},
   "outputs": [
    {
     "name": "stdout",
     "output_type": "stream",
     "text": [
      "Successfully performed 8 CV!\n"
     ]
    }
   ],
   "source": [
    "# Perform 8-fold CV using k values 2-12\n",
    "mpg_cv.perform_cv(np.arange(2,13))"
   ]
  },
  {
   "cell_type": "code",
   "execution_count": 43,
   "metadata": {},
   "outputs": [
    {
     "name": "stdout",
     "output_type": "stream",
     "text": [
      "k=2: 23.49831730769231\n",
      "k=3: 22.150797720797723\n",
      "k=4: 22.0321875\n",
      "k=5: 20.7240782051282\n",
      "k=6: 20.700193198005696\n",
      "k=7: 20.746401753008897\n",
      "k=8: 21.00656650641026\n",
      "k=9: 20.92890115542893\n",
      "k=10: 20.67497884615385\n",
      "k=11: 20.359530356007628\n",
      "k=12: 20.526462784900286\n"
     ]
    },
    {
     "data": {
      "image/png": "[encoded data removed]",
      "text/plain": [
       "<Figure size 432x288 with 1 Axes>"
      ]
     },
     "metadata": {
      "needs_background": "light"
     },
     "output_type": "display_data"
    }
   ],
   "source": [
    "# Examine CV results\n",
    "mpg_cv.get_cv_results()"
   ]
  },
  {
   "cell_type": "code",
   "execution_count": 45,
   "metadata": {},
   "outputs": [
    {
     "name": "stdout",
     "output_type": "stream",
     "text": [
      "Best k: 11\n",
      "CV MSE: 20.359530356007628\n"
     ]
    }
   ],
   "source": [
    "# Get best K\n",
    "   # This sets \"k\" instance attribute to allow for assessment on test set using tuned k\n",
    "mpg_cv.get_best_k()"
   ]
  },
  {
   "cell_type": "code",
   "execution_count": 46,
   "metadata": {},
   "outputs": [
    {
     "name": "stdout",
     "output_type": "stream",
     "text": [
      "Test MSE: 17.984278448823908\n",
      "Test RMSE: 4.240787479799466\n",
      "Test MAE: 3.0834498834498842\n",
      "Test MAPE: 12.740852558555368%\n"
     ]
    }
   ],
   "source": [
    "# Examine regressor performance on test set using tuned k hyperparameter\n",
    "mm.assessment_metrics(mpg_cv)"
   ]
  },
  {
   "cell_type": "code",
   "execution_count": 47,
   "metadata": {},
   "outputs": [],
   "source": [
    "# 8-fold CV indicated we should change our k hyperparameter from 7 to 11\n",
    "  # Improved model test MSE by ~3, test MAE by ~0.3"
   ]
  },
  {
   "cell_type": "code",
   "execution_count": 48,
   "metadata": {},
   "outputs": [
    {
     "data": {
      "text/plain": [
       "array([18.79090909, 18.51818182, 28.3       , 30.82727273])"
      ]
     },
     "execution_count": 48,
     "metadata": {},
     "output_type": "execute_result"
    }
   ],
   "source": [
    "# Re-compute earlier predictions using tuned KNN regressor\n",
    "gp.generate_predictions(mpg_cv,mpg_to_predict,'all')"
   ]
  },
  {
   "cell_type": "code",
   "execution_count": 57,
   "metadata": {},
   "outputs": [],
   "source": [
    "# Assess model performance on these 4 values\n",
    "new_predicted_mpg=gp.generate_predictions(mpg_cv,mpg_to_predict,'all')"
   ]
  },
  {
   "cell_type": "code",
   "execution_count": 58,
   "metadata": {},
   "outputs": [
    {
     "name": "stdout",
     "output_type": "stream",
     "text": [
      "Root mean squared error\n",
      "3.016442543764876\n",
      "Mean squared error\n",
      "9.098925619834715\n",
      "Mean absolute percent error\n",
      "9.280036801489896\n",
      "Mean absolute error\n",
      "2.2136363636363647\n"
     ]
    }
   ],
   "source": [
    "# Compute RMSE, MSE, MAPE, MAE\n",
    "print('Root mean squared error')\n",
    "print(mm.model_rmse(actual_mpg,new_predicted_mpg))\n",
    "print('Mean squared error')\n",
    "print(mm.model_mse(actual_mpg,new_predicted_mpg))\n",
    "print('Mean absolute percent error')\n",
    "print(mm.model_mape(actual_mpg,new_predicted_mpg))\n",
    "print('Mean absolute error')\n",
    "print(mm.model_mae(actual_mpg,new_predicted_mpg))"
   ]
  },
  {
   "cell_type": "code",
   "execution_count": 59,
   "metadata": {},
   "outputs": [],
   "source": [
    "# Tuned regressor achieves better performance for these 4 values"
   ]
  },
  {
   "cell_type": "code",
   "execution_count": null,
   "metadata": {},
   "outputs": [],
   "source": []
  }
 ],
 "metadata": {
  "kernelspec": {
   "display_name": "ubc_mds",
   "language": "python",
   "name": "ubc_mds"
  },
  "language_info": {
   "codemirror_mode": {
    "name": "ipython",
    "version": 3
   },
   "file_extension": ".py",
   "mimetype": "text/x-python",
   "name": "python",
   "nbconvert_exporter": "python",
   "pygments_lexer": "ipython3",
   "version": "3.8.0"
  }
 },
 "nbformat": 4,
 "nbformat_minor": 4
}
