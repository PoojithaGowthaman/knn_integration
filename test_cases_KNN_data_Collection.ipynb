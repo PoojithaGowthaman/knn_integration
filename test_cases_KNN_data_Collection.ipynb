{
 "cells": [
  {
   "cell_type": "code",
   "execution_count": 3,
   "metadata": {},
   "outputs": [
    {
     "name": "stdout",
     "output_type": "stream",
     "text": [
      "Created KNN regressor with k=2!\n",
      "Created KNN classifier with k=3!\n"
     ]
    }
   ],
   "source": [
    "import unittest\n",
    "from KNN.modelling import KNN_data_collection as knn\n",
    "test_knn_regressor = knn.KNN(\"regressor\",2)\n",
    "test_knn_classifier = knn.KNN(\"classifier\", 3)\n",
    "import numpy as np"
   ]
  },
  {
   "cell_type": "code",
   "execution_count": 4,
   "metadata": {},
   "outputs": [
    {
     "ename": "SyntaxError",
     "evalue": "unexpected EOF while parsing (<ipython-input-4-ced98372755a>, line 6)",
     "output_type": "error",
     "traceback": [
      "\u001b[0;36m  File \u001b[0;32m\"<ipython-input-4-ced98372755a>\"\u001b[0;36m, line \u001b[0;32m6\u001b[0m\n\u001b[0;31m    \u001b[0m\n\u001b[0m    ^\u001b[0m\n\u001b[0;31mSyntaxError\u001b[0m\u001b[0;31m:\u001b[0m unexpected EOF while parsing\n"
     ]
    }
   ],
   "source": [
    "class Testload_csv(unittest.TestCase):\n",
    "    \n",
    "    \n",
    "        \n",
    "        \n",
    "        "
   ]
  },
  {
   "cell_type": "code",
   "execution_count": null,
   "metadata": {},
   "outputs": [],
   "source": []
  },
  {
   "cell_type": "code",
   "execution_count": null,
   "metadata": {},
   "outputs": [],
   "source": []
  },
  {
   "cell_type": "code",
   "execution_count": 7,
   "metadata": {},
   "outputs": [
    {
     "name": "stderr",
     "output_type": "stream",
     "text": [
      "test_train_test_split_regressor (__main__.TestDataCollection_regressor) ... "
     ]
    },
    {
     "name": "stdout",
     "output_type": "stream",
     "text": [
      "3 1 3 1\n",
      "Successfully completed train/test split!\n",
      "Training set: 3 samples\n",
      "Test set: 1 samples\n",
      "3 1 3 1\n"
     ]
    },
    {
     "name": "stderr",
     "output_type": "stream",
     "text": [
      "ok\n",
      "\n",
      "----------------------------------------------------------------------\n",
      "Ran 1 test in 0.002s\n",
      "\n",
      "OK\n"
     ]
    },
    {
     "data": {
      "text/plain": [
       "<unittest.main.TestProgram at 0x7faa003dc8b0>"
      ]
     },
     "execution_count": 7,
     "metadata": {},
     "output_type": "execute_result"
    }
   ],
   "source": [
    "class TestDataCollection_regressor(unittest.TestCase):\n",
    "    \n",
    "    def test_train_test_split_regressor(self):\n",
    "  \n",
    "        \n",
    "        test_size = 0.25\n",
    "        x = np.array([[6,250,100,3282,15],[6,250,88,3139,14.5], [4,122,86,2220,14],[4,116,90,2123,14]])\n",
    "        y = np.array([12, 45, 11, 90])\n",
    "        \n",
    "        test_knn_regressor.x = x\n",
    "        test_knn_regressor.y = y\n",
    "        \n",
    "        \n",
    "        x_train = int((1-test_size) * len(x))\n",
    "        x_test = int(test_size * len(x))\n",
    "        y_train = int((1-test_size) * len(y))\n",
    "        y_test = int(test_size * len(y))\n",
    "        \n",
    "        print(x_train, x_test, y_train, y_test)\n",
    "        \n",
    "        \n",
    "        test_knn_regressor.train_test_split(0.25)\n",
    "        assert_xtrain = len(test_knn_regressor.x_train)\n",
    "        assert_xtest = len(test_knn_regressor.x_test)\n",
    "        assert_ytrain = len(test_knn_regressor.y_train)\n",
    "        assert_ytest = len(test_knn_regressor.y_test)\n",
    "        \n",
    "        \n",
    "        print(assert_xtrain, assert_xtest, assert_ytrain, assert_ytest)\n",
    "    \n",
    "        self.assertEqual(x_train,assert_xtrain)\n",
    "        self.assertEqual(x_test,assert_xtest)\n",
    "        self.assertEqual(y_train,assert_ytrain)\n",
    "        self.assertEqual(y_test,assert_ytest)\n",
    "        \n",
    "        \n",
    "unittest.main (argv =[''], verbosity=2, exit= False)"
   ]
  },
  {
   "cell_type": "code",
   "execution_count": 3,
   "metadata": {},
   "outputs": [
    {
     "name": "stderr",
     "output_type": "stream",
     "text": [
      "test_train_test_split_classifier (__main__.TestDataCollection_classifier) ... "
     ]
    },
    {
     "name": "stdout",
     "output_type": "stream",
     "text": [
      "3 2 3 2\n",
      "Successfully completed train/test split!\n",
      "Training set: 3 samples\n",
      "Test set: 2 samples\n",
      "3 2 3 2\n"
     ]
    },
    {
     "name": "stderr",
     "output_type": "stream",
     "text": [
      "ok\n",
      "\n",
      "----------------------------------------------------------------------\n",
      "Ran 1 test in 0.002s\n",
      "\n",
      "OK\n"
     ]
    },
    {
     "data": {
      "text/plain": [
       "<unittest.main.TestProgram at 0x7f9bc8575cd0>"
      ]
     },
     "execution_count": 3,
     "metadata": {},
     "output_type": "execute_result"
    }
   ],
   "source": [
    "class TestDataCollection_classifier(unittest.TestCase):\n",
    "    def test_train_test_split_classifier(self):\n",
    "        test_size = 0.4\n",
    "        x = np.array([[6.3,2.3,4.4,1.3],[6.8,3.2,5.9,2.3],[4.3,3,1.1,0.1],[3.5,3.1,1.0,0.5],[6.9,3.3,5.8,2.0]])\n",
    "        y = np.array(['Iris-versicolor', 'Iris-virginica', 'Iris-setosa', 'Iris-setosa','Iris-virginica'])\n",
    "        \n",
    "        test_knn_classifier.x = x\n",
    "        test_knn_classifier.y = y\n",
    "        \n",
    "        x_train = int((1-test_size) * len(x))\n",
    "        x_test = int(test_size * len(x))\n",
    "        y_train = int((1-test_size) * len(y))\n",
    "        y_test = int(test_size * len(y))\n",
    "        \n",
    "        print(x_train, x_test, y_train, y_test)\n",
    "        \n",
    "        test_knn_classifier.train_test_split(0.4)\n",
    "        assert_xtrain = len(test_knn_classifier.x_train)\n",
    "        assert_xtest = len(test_knn_classifier.x_test)\n",
    "        assert_ytrain = len(test_knn_classifier.y_train)\n",
    "        assert_ytest = len(test_knn_classifier.y_test)\n",
    "        \n",
    "        print(assert_xtrain,assert_xtest,assert_ytrain,assert_ytest)\n",
    "        \n",
    "        self.assertEqual(x_train, assert_xtrain)\n",
    "        self.assertEqual(x_test,assert_xtest)\n",
    "        self.assertEqual(y_train, assert_ytrain)\n",
    "        self.assertEqual(y_test, assert_ytest)\n",
    "\n",
    "unittest.main (argv =[''], verbosity=2, exit= False)      "
   ]
  },
  {
   "cell_type": "code",
   "execution_count": null,
   "metadata": {},
   "outputs": [],
   "source": []
  }
 ],
 "metadata": {
  "kernelspec": {
   "display_name": "Python 3",
   "language": "python",
   "name": "python3"
  },
  "language_info": {
   "codemirror_mode": {
    "name": "ipython",
    "version": 3
   },
   "file_extension": ".py",
   "mimetype": "text/x-python",
   "name": "python",
   "nbconvert_exporter": "python",
   "pygments_lexer": "ipython3",
   "version": "3.8.3"
  }
 },
 "nbformat": 4,
 "nbformat_minor": 4
}
